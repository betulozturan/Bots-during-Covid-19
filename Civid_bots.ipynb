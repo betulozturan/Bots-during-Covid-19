{
  "nbformat": 4,
  "nbformat_minor": 0,
  "metadata": {
    "colab": {
      "name": "Civid-bots.ipynb",
      "provenance": [],
      "toc_visible": true,
      "authorship_tag": "ABX9TyNYjJS9jiXkFaFZ9FwkyoXa",
      "include_colab_link": true
    },
    "kernelspec": {
      "name": "python3",
      "display_name": "Python 3"
    }
  },
  "cells": [
    {
      "cell_type": "markdown",
      "metadata": {
        "id": "view-in-github",
        "colab_type": "text"
      },
      "source": [
        "<a href=\"https://colab.research.google.com/github/betulozturan/Bots-during-Covid-19/blob/master/Civid_bots.ipynb\" target=\"_parent\"><img src=\"https://colab.research.google.com/assets/colab-badge.svg\" alt=\"Open In Colab\"/></a>"
      ]
    },
    {
      "cell_type": "code",
      "metadata": {
        "id": "iaCgovolXuC4",
        "colab_type": "code",
        "colab": {
          "base_uri": "https://localhost:8080/",
          "height": 54
        },
        "outputId": "4c14fefe-891d-45b3-a91d-0904fe2d8d87"
      },
      "source": [
        "from google.colab import drive\n",
        "drive.mount('/content/drive')"
      ],
      "execution_count": 2,
      "outputs": [
        {
          "output_type": "stream",
          "text": [
            "Drive already mounted at /content/drive; to attempt to forcibly remount, call drive.mount(\"/content/drive\", force_remount=True).\n"
          ],
          "name": "stdout"
        }
      ]
    },
    {
      "cell_type": "code",
      "metadata": {
        "id": "_bdeb7vTbPxM",
        "colab_type": "code",
        "colab": {}
      },
      "source": [
        "import pandas as pd"
      ],
      "execution_count": 4,
      "outputs": []
    },
    {
      "cell_type": "code",
      "metadata": {
        "id": "_eoOaPoyYFXH",
        "colab_type": "code",
        "colab": {
          "base_uri": "https://localhost:8080/",
          "height": 71
        },
        "outputId": "1de24122-85c1-452f-b3fe-4dc64a2dc276"
      },
      "source": [
        "##import the dataset from drive. The dataset contains the tweets about covid during XXXX\n",
        "covid_new = pd.read_csv(r'/content/drive/My Drive/css/covid_all/before/new_all_covid_all_nodublication.csv')"
      ],
      "execution_count": 5,
      "outputs": [
        {
          "output_type": "stream",
          "text": [
            "/usr/local/lib/python3.6/dist-packages/IPython/core/interactiveshell.py:2718: DtypeWarning: Columns (0,1,2,4,5,6,7,9) have mixed types.Specify dtype option on import or set low_memory=False.\n",
            "  interactivity=interactivity, compiler=compiler, result=result)\n"
          ],
          "name": "stderr"
        }
      ]
    },
    {
      "cell_type": "code",
      "metadata": {
        "id": "KldLxFNNo2N2",
        "colab_type": "code",
        "colab": {
          "base_uri": "https://localhost:8080/",
          "height": 34
        },
        "outputId": "db2977ed-1c5d-43ec-ef3f-06fcadf756c3"
      },
      "source": [
        "print(covid_new.shape)"
      ],
      "execution_count": 29,
      "outputs": [
        {
          "output_type": "stream",
          "text": [
            "(22677206, 10)\n"
          ],
          "name": "stdout"
        }
      ]
    },
    {
      "cell_type": "code",
      "metadata": {
        "id": "X2HP-R6Ro6WJ",
        "colab_type": "code",
        "colab": {}
      },
      "source": [
        "covid_tek = covid_new.drop_duplicates(subset='id', keep='first')\n"
      ],
      "execution_count": 7,
      "outputs": []
    },
    {
      "cell_type": "code",
      "metadata": {
        "id": "O7utMS8tpLcU",
        "colab_type": "code",
        "colab": {
          "base_uri": "https://localhost:8080/",
          "height": 34
        },
        "outputId": "8d065319-5550-4b51-ccb2-1f368d3cd7af"
      },
      "source": [
        "print(covid_tek.shape)"
      ],
      "execution_count": 8,
      "outputs": [
        {
          "output_type": "stream",
          "text": [
            "(3179181, 10)\n"
          ],
          "name": "stdout"
        }
      ]
    },
    {
      "cell_type": "code",
      "metadata": {
        "id": "Kh2biyburYd2",
        "colab_type": "code",
        "colab": {
          "base_uri": "https://localhost:8080/",
          "height": 374
        },
        "outputId": "6f2b48c0-c98f-43bb-e284-852224fb5e35"
      },
      "source": [
        "covid_tek.head()"
      ],
      "execution_count": 7,
      "outputs": [
        {
          "output_type": "execute_result",
          "data": {
            "text/html": [
              "<div>\n",
              "<style scoped>\n",
              "    .dataframe tbody tr th:only-of-type {\n",
              "        vertical-align: middle;\n",
              "    }\n",
              "\n",
              "    .dataframe tbody tr th {\n",
              "        vertical-align: top;\n",
              "    }\n",
              "\n",
              "    .dataframe thead th {\n",
              "        text-align: right;\n",
              "    }\n",
              "</style>\n",
              "<table border=\"1\" class=\"dataframe\">\n",
              "  <thead>\n",
              "    <tr style=\"text-align: right;\">\n",
              "      <th></th>\n",
              "      <th>id</th>\n",
              "      <th>date</th>\n",
              "      <th>time</th>\n",
              "      <th>user_id</th>\n",
              "      <th>username</th>\n",
              "      <th>tweet</th>\n",
              "      <th>hashtags</th>\n",
              "      <th>retweet</th>\n",
              "      <th>user_rt</th>\n",
              "      <th>mentions</th>\n",
              "    </tr>\n",
              "  </thead>\n",
              "  <tbody>\n",
              "    <tr>\n",
              "      <th>0</th>\n",
              "      <td>1245138804224200705</td>\n",
              "      <td>2020-03-31</td>\n",
              "      <td>23:59:59</td>\n",
              "      <td>1.228806e+18</td>\n",
              "      <td>synsemi</td>\n",
              "      <td>Ateşin düşük ama corona değilsin endişelenme</td>\n",
              "      <td>[]</td>\n",
              "      <td>False</td>\n",
              "      <td>NaN</td>\n",
              "      <td>['ilaydaincesoyy']</td>\n",
              "    </tr>\n",
              "    <tr>\n",
              "      <th>1</th>\n",
              "      <td>1245138773077344256</td>\n",
              "      <td>2020-03-31</td>\n",
              "      <td>23:59:51</td>\n",
              "      <td>6.322548e+08</td>\n",
              "      <td>cigdemaratergit</td>\n",
              "      <td>Bu Corona hepimizi mahvetti. Kafayı yedik 😂😂😂 ...</td>\n",
              "      <td>[]</td>\n",
              "      <td>False</td>\n",
              "      <td>NaN</td>\n",
              "      <td>[]</td>\n",
              "    </tr>\n",
              "    <tr>\n",
              "      <th>2</th>\n",
              "      <td>1245138772888637443</td>\n",
              "      <td>2020-03-31</td>\n",
              "      <td>23:59:51</td>\n",
              "      <td>7.561742e+17</td>\n",
              "      <td>roosteralii</td>\n",
              "      <td>1 nisan corona yüzünden şaka yapamadiğin o kad...</td>\n",
              "      <td>[]</td>\n",
              "      <td>False</td>\n",
              "      <td>NaN</td>\n",
              "      <td>['asliiovalii']</td>\n",
              "    </tr>\n",
              "    <tr>\n",
              "      <th>3</th>\n",
              "      <td>1245138770313256967</td>\n",
              "      <td>2020-03-31</td>\n",
              "      <td>23:59:51</td>\n",
              "      <td>8.466260e+07</td>\n",
              "      <td>serktheturk1</td>\n",
              "      <td>Corona virüsünün “i”harfine bi gıcıklığı olmal...</td>\n",
              "      <td>[]</td>\n",
              "      <td>False</td>\n",
              "      <td>NaN</td>\n",
              "      <td>[]</td>\n",
              "    </tr>\n",
              "    <tr>\n",
              "      <th>4</th>\n",
              "      <td>1245138707516133381</td>\n",
              "      <td>2020-03-31</td>\n",
              "      <td>23:59:36</td>\n",
              "      <td>2.154616e+09</td>\n",
              "      <td>fzelfida</td>\n",
              "      <td>Bu tuyp olsa ne olur..!\\nVirüs fena kor ona..!...</td>\n",
              "      <td>[]</td>\n",
              "      <td>False</td>\n",
              "      <td>NaN</td>\n",
              "      <td>[]</td>\n",
              "    </tr>\n",
              "  </tbody>\n",
              "</table>\n",
              "</div>"
            ],
            "text/plain": [
              "                    id        date  ... user_rt            mentions\n",
              "0  1245138804224200705  2020-03-31  ...     NaN  ['ilaydaincesoyy']\n",
              "1  1245138773077344256  2020-03-31  ...     NaN                  []\n",
              "2  1245138772888637443  2020-03-31  ...     NaN     ['asliiovalii']\n",
              "3  1245138770313256967  2020-03-31  ...     NaN                  []\n",
              "4  1245138707516133381  2020-03-31  ...     NaN                  []\n",
              "\n",
              "[5 rows x 10 columns]"
            ]
          },
          "metadata": {
            "tags": []
          },
          "execution_count": 7
        }
      ]
    },
    {
      "cell_type": "code",
      "metadata": {
        "id": "SCHqUaky73t4",
        "colab_type": "code",
        "colab": {
          "base_uri": "https://localhost:8080/",
          "height": 224
        },
        "outputId": "fc09754a-8079-4ea9-bdfd-9e0bb75928ed"
      },
      "source": [
        "pip install botometer"
      ],
      "execution_count": 9,
      "outputs": [
        {
          "output_type": "stream",
          "text": [
            "Requirement already satisfied: botometer in /usr/local/lib/python3.6/dist-packages (1.5)\n",
            "Requirement already satisfied: requests in /usr/local/lib/python3.6/dist-packages (from botometer) (2.23.0)\n",
            "Requirement already satisfied: tweepy>=3.5.0 in /usr/local/lib/python3.6/dist-packages (from botometer) (3.6.0)\n",
            "Requirement already satisfied: urllib3!=1.25.0,!=1.25.1,<1.26,>=1.21.1 in /usr/local/lib/python3.6/dist-packages (from requests->botometer) (1.24.3)\n",
            "Requirement already satisfied: chardet<4,>=3.0.2 in /usr/local/lib/python3.6/dist-packages (from requests->botometer) (3.0.4)\n",
            "Requirement already satisfied: idna<3,>=2.5 in /usr/local/lib/python3.6/dist-packages (from requests->botometer) (2.9)\n",
            "Requirement already satisfied: certifi>=2017.4.17 in /usr/local/lib/python3.6/dist-packages (from requests->botometer) (2020.4.5.2)\n",
            "Requirement already satisfied: six>=1.10.0 in /usr/local/lib/python3.6/dist-packages (from tweepy>=3.5.0->botometer) (1.12.0)\n",
            "Requirement already satisfied: requests-oauthlib>=0.7.0 in /usr/local/lib/python3.6/dist-packages (from tweepy>=3.5.0->botometer) (1.3.0)\n",
            "Requirement already satisfied: PySocks>=1.5.7 in /usr/local/lib/python3.6/dist-packages (from tweepy>=3.5.0->botometer) (1.7.1)\n",
            "Requirement already satisfied: oauthlib>=3.0.0 in /usr/local/lib/python3.6/dist-packages (from requests-oauthlib>=0.7.0->tweepy>=3.5.0->botometer) (3.1.0)\n"
          ],
          "name": "stdout"
        }
      ]
    },
    {
      "cell_type": "code",
      "metadata": {
        "id": "i7rFyn3Md_47",
        "colab_type": "code",
        "colab": {}
      },
      "source": [
        "import json\n",
        "import gzip\n",
        "import numpy as np\n",
        "import pandas as pd\n",
        "import datetime\n",
        "from dateutil.parser import parse\n",
        "\n",
        "import matplotlib\n",
        "from matplotlib import pyplot as plt\n",
        "import matplotlib.gridspec as gridspec\n",
        "\n",
        "import botometer"
      ],
      "execution_count": 10,
      "outputs": []
    },
    {
      "cell_type": "code",
      "metadata": {
        "id": "zig3VYnW9M_a",
        "colab_type": "code",
        "colab": {}
      },
      "source": [
        "rapidapi_key = \"XX\" # now it's called rapidapi key\n",
        "twitter_app_auth = {\n",
        "    'consumer_key'       : '',\n",
        "    'consumer_secret'    : '',\n",
        "    'access_token'       : '',\n",
        "    'access_token_secret': '',\n",
        "}\n",
        "bom = botometer.Botometer(wait_on_ratelimit=True,\n",
        "                          rapidapi_key=rapidapi_key,\n",
        "                          **twitter_app_auth)"
      ],
      "execution_count": 11,
      "outputs": []
    },
    {
      "cell_type": "markdown",
      "metadata": {
        "id": "r99BXBnPj1XD",
        "colab_type": "text"
      },
      "source": [
        "## **Section 1.** Inspect botometer scores of tweet users in the dataset\n"
      ]
    },
    {
      "cell_type": "code",
      "metadata": {
        "id": "-doWzNVph5Bu",
        "colab_type": "code",
        "colab": {
          "base_uri": "https://localhost:8080/",
          "height": 34
        },
        "outputId": "3e35f59a-3e5f-43fb-e0f9-3db1ee200a85"
      },
      "source": [
        "# to check if our list has repetitions\n",
        "\n",
        "covid_id = list()\n",
        "covid_id = list(covid_tek['id'])\n",
        "\n",
        "def checklist(list):\n",
        "    for i in list:\n",
        "        if list.count(i)>1:\n",
        "            return \"You have duplicate tweets\"\n",
        "        else:\n",
        "            return \" Perfect! Every ID is unique\"\n",
        "\n",
        "checklist(covid_id)"
      ],
      "execution_count": 12,
      "outputs": [
        {
          "output_type": "execute_result",
          "data": {
            "text/plain": [
              "' Perfect! Every ID is unique'"
            ]
          },
          "metadata": {
            "tags": []
          },
          "execution_count": 12
        }
      ]
    },
    {
      "cell_type": "code",
      "metadata": {
        "id": "c2fCxRZxh3nA",
        "colab_type": "code",
        "colab": {
          "base_uri": "https://localhost:8080/",
          "height": 34
        },
        "outputId": "482c3614-823f-47be-e801-278ab0c366e4"
      },
      "source": [
        "covid_tek2 = covid_tek.copy(deep=True)\n",
        "type(covid_tek2)"
      ],
      "execution_count": 31,
      "outputs": [
        {
          "output_type": "execute_result",
          "data": {
            "text/plain": [
              "pandas.core.frame.DataFrame"
            ]
          },
          "metadata": {
            "tags": []
          },
          "execution_count": 31
        }
      ]
    },
    {
      "cell_type": "code",
      "metadata": {
        "id": "Ry9LyXqApi5A",
        "colab_type": "code",
        "colab": {
          "base_uri": "https://localhost:8080/",
          "height": 34
        },
        "outputId": "1d967aaa-968f-4300-e0de-e6b3e3919729"
      },
      "source": [
        "print(covid_tek2.shape)"
      ],
      "execution_count": 10,
      "outputs": [
        {
          "output_type": "stream",
          "text": [
            "(3179181, 10)\n"
          ],
          "name": "stdout"
        }
      ]
    },
    {
      "cell_type": "code",
      "metadata": {
        "id": "Tm-lGIt_gQwS",
        "colab_type": "code",
        "colab": {
          "base_uri": "https://localhost:8080/",
          "height": 119
        },
        "outputId": "b1155df3-fa48-45e8-f615-4b6a9c7b8eaa"
      },
      "source": [
        "indexNames = covid_tek2[(covid_tek2['username'] == 'bursasporumcom') |(covid_tek2['username'] == 'sakaryagazetesi') | (covid_tek2['username'] == 'dokuz8haber')\n",
        "| (covid_tek2['username'] == 'milliyet') | (covid_tek2['username'] == 'dikencomtr')].index\n",
        "indexNames"
      ],
      "execution_count": 33,
      "outputs": [
        {
          "output_type": "execute_result",
          "data": {
            "text/plain": [
              "Int64Index([     793,      794,      976,     1127,     2671,     2672,\n",
              "                3323,     4229,     4237,     4246,\n",
              "            ...\n",
              "            22625707, 22626343, 22626618, 22627107, 22627331, 22628359,\n",
              "            22628557, 22628681, 22675548, 22675581],\n",
              "           dtype='int64', length=4362)"
            ]
          },
          "metadata": {
            "tags": []
          },
          "execution_count": 33
        }
      ]
    },
    {
      "cell_type": "code",
      "metadata": {
        "id": "EnhDAGA0kepZ",
        "colab_type": "code",
        "colab": {}
      },
      "source": [
        "covid_tek_drop=covid_tek2.drop(indexNames, inplace= False)"
      ],
      "execution_count": 34,
      "outputs": []
    },
    {
      "cell_type": "code",
      "metadata": {
        "id": "00C9RgYDhlP4",
        "colab_type": "code",
        "colab": {
          "base_uri": "https://localhost:8080/",
          "height": 34
        },
        "outputId": "486fce66-3c3a-4edd-82d9-3788cef1c1a7"
      },
      "source": [
        "covid_tek_drop.shape"
      ],
      "execution_count": 35,
      "outputs": [
        {
          "output_type": "execute_result",
          "data": {
            "text/plain": [
              "(3174819, 10)"
            ]
          },
          "metadata": {
            "tags": []
          },
          "execution_count": 35
        }
      ]
    },
    {
      "cell_type": "code",
      "metadata": {
        "id": "bCs_BAUsNtpz",
        "colab_type": "code",
        "colab": {}
      },
      "source": [
        "userProfiles = dict()\n",
        "# Read tweet datasets to collect user-ids\n",
        "\n",
        "for line in covid_new.index:\n",
        "    if covid_new['username'][line] not in userProfiles:\n",
        "            userProfiles[covid_new['username'][line]] = {'count':0}\n",
        "            \n",
        "    userProfiles[covid_new['username'][line]]['count'] += 1\n",
        "    userProfiles[covid_new['username'][line]].update({\n",
        "            'screen_name': covid_new['username'][line],\n",
        "            \"user_id\" : covid_new['user_id'][line],\n",
        "        })\n",
        "        \n",
        "print('{} unique users collected'.format(len(userProfiles)))\n",
        "\n",
        "###794577 unique users collected"
      ],
      "execution_count": null,
      "outputs": []
    },
    {
      "cell_type": "code",
      "metadata": {
        "id": "sqpqgYMHNe4c",
        "colab_type": "code",
        "colab": {}
      },
      "source": [
        "covid_test = covid_tek_drop.sample(n=10000)"
      ],
      "execution_count": 37,
      "outputs": []
    },
    {
      "cell_type": "code",
      "metadata": {
        "id": "BP5KNbxTLhZa",
        "colab_type": "code",
        "colab": {}
      },
      "source": [
        "covid_test.head(200)"
      ],
      "execution_count": null,
      "outputs": []
    },
    {
      "cell_type": "code",
      "metadata": {
        "id": "X1mUuAJPcuVA",
        "colab_type": "code",
        "colab": {
          "base_uri": "https://localhost:8080/",
          "height": 34
        },
        "outputId": "9c9000e2-b47a-420f-cebd-0a10dbd5f040"
      },
      "source": [
        "userProfiles = dict()\n",
        "# Read tweet datasets to collect user-ids\n",
        "\n",
        "for line in covid_test.index:\n",
        "    if covid_test['username'][line] not in userProfiles:\n",
        "            userProfiles[covid_test['username'][line]] = {'count':0}\n",
        "            \n",
        "    userProfiles[covid_test['username'][line]]['count'] += 1\n",
        "    userProfiles[covid_test['username'][line]].update({\n",
        "            'screen_name': covid_test['username'][line],\n",
        "            \"user_id\" : covid_test['user_id'][line],\n",
        "        })\n",
        "        \n",
        "print('{} unique users collected'.format(len(userProfiles)))\n",
        "\n",
        "###794577 unique users collected"
      ],
      "execution_count": 38,
      "outputs": [
        {
          "output_type": "stream",
          "text": [
            "9526 unique users collected\n"
          ],
          "name": "stdout"
        }
      ]
    },
    {
      "cell_type": "code",
      "metadata": {
        "id": "8EtXc0sl8IwP",
        "colab_type": "code",
        "colab": {}
      },
      "source": [
        "userDf = pd.DataFrame.from_dict(userProfiles, orient='index')"
      ],
      "execution_count": 39,
      "outputs": []
    },
    {
      "cell_type": "code",
      "metadata": {
        "id": "_UKKtIdk8B7O",
        "colab_type": "code",
        "colab": {
          "base_uri": "https://localhost:8080/",
          "height": 34
        },
        "outputId": "65bb0503-ff8f-44d3-ffee-9e20c7ed56f3"
      },
      "source": [
        "## create a lost with usernames in a format botometer can use \n",
        "deneme= list()\n",
        "deneme = ('@'+userDf['screen_name'])\n",
        "len(deneme)"
      ],
      "execution_count": 40,
      "outputs": [
        {
          "output_type": "execute_result",
          "data": {
            "text/plain": [
              "9526"
            ]
          },
          "metadata": {
            "tags": []
          },
          "execution_count": 40
        }
      ]
    },
    {
      "cell_type": "code",
      "metadata": {
        "id": "xagoHAn5llUv",
        "colab_type": "code",
        "colab": {
          "base_uri": "https://localhost:8080/",
          "height": 34
        },
        "outputId": "8b423c99-8878-45ef-cf82-28879f760f6f"
      },
      "source": [
        "deneme1 = list()\n",
        "deneme1 = deneme[:150]\n",
        "len(deneme1)"
      ],
      "execution_count": 36,
      "outputs": [
        {
          "output_type": "execute_result",
          "data": {
            "text/plain": [
              "150"
            ]
          },
          "metadata": {
            "tags": []
          },
          "execution_count": 36
        }
      ]
    },
    {
      "cell_type": "code",
      "metadata": {
        "id": "DhmPAGQlZNar",
        "colab_type": "code",
        "colab": {}
      },
      "source": [
        "import json\n",
        "\n",
        "result=list()\n",
        "json = json.dumps(result)\n",
        "f = open(\"result.json\",\"w\")\n",
        "f.write(json)\n",
        "f.close()"
      ],
      "execution_count": 37,
      "outputs": []
    },
    {
      "cell_type": "code",
      "metadata": {
        "id": "6ZbvO_ymKfQF",
        "colab_type": "code",
        "colab": {
          "base_uri": "https://localhost:8080/",
          "height": 34
        },
        "outputId": "a4a97b2a-1aaf-424c-c451-65b09af85de4"
      },
      "source": [
        "type(result)"
      ],
      "execution_count": 21,
      "outputs": [
        {
          "output_type": "execute_result",
          "data": {
            "text/plain": [
              "list"
            ]
          },
          "metadata": {
            "tags": []
          },
          "execution_count": 21
        }
      ]
    },
    {
      "cell_type": "code",
      "metadata": {
        "id": "tYRhsi9c83hJ",
        "colab_type": "code",
        "colab": {}
      },
      "source": [
        "result=list()\n",
        "for i in range(len(deneme1)):\n",
        "  try:\n",
        "    result.append(bom.check_account(deneme1[i]))\n",
        "    print('Processing')\n",
        "  except:\n",
        "    continue"
      ],
      "execution_count": null,
      "outputs": []
    },
    {
      "cell_type": "code",
      "metadata": {
        "id": "wcB3OAVx86o2",
        "colab_type": "code",
        "colab": {}
      },
      "source": [
        "import json\n",
        "json = json.dumps(result)\n",
        "f = open(\"result.json\",\"w\")\n",
        "f.write(json)\n",
        "f.close()"
      ],
      "execution_count": 56,
      "outputs": []
    },
    {
      "cell_type": "code",
      "metadata": {
        "id": "kOb-bHIAw2j2",
        "colab_type": "code",
        "colab": {}
      },
      "source": [
        "deneme2 = list()\n",
        "deneme2 = deneme[151:300]\n",
        "\n",
        "\n",
        "result2=list()\n",
        "for i in range(len(deneme2)):\n",
        "  try:\n",
        "    result2.append(bom.check_account(deneme2[i]))\n",
        "    print('Processing')\n",
        "  except:\n",
        "    continue\n"
      ],
      "execution_count": null,
      "outputs": []
    },
    {
      "cell_type": "code",
      "metadata": {
        "id": "xQHcFF3DHX6m",
        "colab_type": "code",
        "colab": {}
      },
      "source": [
        "\n",
        "import json\n",
        "json = json.dumps(result2)\n",
        "f = open(\"result2.json\",\"w\")\n",
        "f.write(json)\n",
        "f.close()"
      ],
      "execution_count": 57,
      "outputs": []
    },
    {
      "cell_type": "code",
      "metadata": {
        "id": "r45Dhxqn0FfQ",
        "colab_type": "code",
        "colab": {}
      },
      "source": [
        "deneme3 = list()\n",
        "deneme3 = deneme[301:1000]\n",
        "\n",
        "\n",
        "result3=list()\n",
        "for i in range(len(deneme3)):\n",
        "  try:\n",
        "    result3.append(bom.check_account(deneme3[i]))\n",
        "    print('Processing')\n",
        "  except:\n",
        "    continue\n"
      ],
      "execution_count": null,
      "outputs": []
    },
    {
      "cell_type": "code",
      "metadata": {
        "id": "aO6U5ON4Ha4x",
        "colab_type": "code",
        "colab": {}
      },
      "source": [
        "import json\n",
        "json = json.dumps(result3)\n",
        "f = open(\"result3.json\",\"w\")\n",
        "f.write(json)\n",
        "f.close()"
      ],
      "execution_count": 58,
      "outputs": []
    },
    {
      "cell_type": "code",
      "metadata": {
        "id": "1lBOcHDscgQG",
        "colab_type": "code",
        "colab": {}
      },
      "source": [
        "deneme5 = list()\n",
        "deneme5 = deneme[1001:1200]\n",
        "\n",
        "\n",
        "result5=list()\n",
        "for i in range(len(deneme5)):\n",
        "  try:\n",
        "    result5.append(bom.check_account(deneme5[i]))\n",
        "    print('Processing')\n",
        "  except:\n",
        "    continue"
      ],
      "execution_count": null,
      "outputs": []
    },
    {
      "cell_type": "code",
      "metadata": {
        "id": "JRGrH-Xzchs0",
        "colab_type": "code",
        "colab": {}
      },
      "source": [
        "import json\n",
        "json = json.dumps(result5)\n",
        "f = open(\"result5.json\",\"w\")\n",
        "f.write(json)\n",
        "f.close()"
      ],
      "execution_count": 152,
      "outputs": []
    },
    {
      "cell_type": "code",
      "metadata": {
        "id": "ddSEFCsKgltv",
        "colab_type": "code",
        "colab": {}
      },
      "source": [
        "deneme6 = list()\n",
        "deneme6 = deneme[1201:1500]\n",
        "\n",
        "\n",
        "result6=list()\n",
        "for i in range(len(deneme6)):\n",
        "  try:\n",
        "    result6.append(bom.check_account(deneme6[i]))\n",
        "  except:\n",
        "    continue\n",
        "\n",
        "    print('Processing')\n",
        "\n",
        "import json\n",
        "json = json.dumps(result6)\n",
        "f = open(\"result6.json\",\"w\")\n",
        "f.write(json)\n",
        "f.close()"
      ],
      "execution_count": 154,
      "outputs": []
    },
    {
      "cell_type": "code",
      "metadata": {
        "id": "L3yMTQPUk83f",
        "colab_type": "code",
        "colab": {}
      },
      "source": [
        "deneme7 = list()\n",
        "deneme7 = deneme[1501:]\n",
        "\n",
        "\n",
        "result7=list()\n",
        "for i in range(len(deneme7)):\n",
        "  try:\n",
        "    result7.append(bom.check_account(deneme7[i]))\n",
        "  except:\n",
        "    continue\n",
        "\n",
        "    print('Processing')\n",
        "\n",
        "import json\n",
        "json = json.dumps(result7)\n",
        "f = open(\"result7.json\",\"w\")\n",
        "f.write(json)\n",
        "f.close()"
      ],
      "execution_count": null,
      "outputs": []
    },
    {
      "cell_type": "markdown",
      "metadata": {
        "id": "GCdmus15pVZ-",
        "colab_type": "text"
      },
      "source": [
        "# **Section 2.** The next section is to see most active users \n"
      ]
    },
    {
      "cell_type": "code",
      "metadata": {
        "id": "8nlO5Ji9phQ4",
        "colab_type": "code",
        "colab": {}
      },
      "source": [
        "# Let's look at the most active accounts\n",
        "userDf = pd.DataFrame.from_dict(userProfiles, orient='index')"
      ],
      "execution_count": 41,
      "outputs": []
    },
    {
      "cell_type": "code",
      "metadata": {
        "id": "nf6liyr7LlAF",
        "colab_type": "code",
        "colab": {
          "base_uri": "https://localhost:8080/",
          "height": 419
        },
        "outputId": "05369eee-3a0a-4838-d326-291344640f14"
      },
      "source": [
        "userDf = userDf.sort_values(by='count', ascending=False)\n",
        "userDf"
      ],
      "execution_count": 42,
      "outputs": [
        {
          "output_type": "execute_result",
          "data": {
            "text/html": [
              "<div>\n",
              "<style scoped>\n",
              "    .dataframe tbody tr th:only-of-type {\n",
              "        vertical-align: middle;\n",
              "    }\n",
              "\n",
              "    .dataframe tbody tr th {\n",
              "        vertical-align: top;\n",
              "    }\n",
              "\n",
              "    .dataframe thead th {\n",
              "        text-align: right;\n",
              "    }\n",
              "</style>\n",
              "<table border=\"1\" class=\"dataframe\">\n",
              "  <thead>\n",
              "    <tr style=\"text-align: right;\">\n",
              "      <th></th>\n",
              "      <th>count</th>\n",
              "      <th>screen_name</th>\n",
              "      <th>user_id</th>\n",
              "    </tr>\n",
              "  </thead>\n",
              "  <tbody>\n",
              "    <tr>\n",
              "      <th>sondakikhabertr</th>\n",
              "      <td>12</td>\n",
              "      <td>sondakikhabertr</td>\n",
              "      <td>2.656757e+09</td>\n",
              "    </tr>\n",
              "    <tr>\n",
              "      <th>teknobilginet</th>\n",
              "      <td>11</td>\n",
              "      <td>teknobilginet</td>\n",
              "      <td>2.987052e+09</td>\n",
              "    </tr>\n",
              "    <tr>\n",
              "      <th>anahabercom</th>\n",
              "      <td>10</td>\n",
              "      <td>anahabercom</td>\n",
              "      <td>1.291886e+09</td>\n",
              "    </tr>\n",
              "    <tr>\n",
              "      <th>habersnm</th>\n",
              "      <td>8</td>\n",
              "      <td>habersnm</td>\n",
              "      <td>3.898611e+09</td>\n",
              "    </tr>\n",
              "    <tr>\n",
              "      <th>corona_haber</th>\n",
              "      <td>8</td>\n",
              "      <td>corona_haber</td>\n",
              "      <td>1.238072e+18</td>\n",
              "    </tr>\n",
              "    <tr>\n",
              "      <th>...</th>\n",
              "      <td>...</td>\n",
              "      <td>...</td>\n",
              "      <td>...</td>\n",
              "    </tr>\n",
              "    <tr>\n",
              "      <th>musasev23438057</th>\n",
              "      <td>1</td>\n",
              "      <td>musasev23438057</td>\n",
              "      <td>1.230414e+18</td>\n",
              "    </tr>\n",
              "    <tr>\n",
              "      <th>gokhansonmez</th>\n",
              "      <td>1</td>\n",
              "      <td>gokhansonmez</td>\n",
              "      <td>1.150151e+08</td>\n",
              "    </tr>\n",
              "    <tr>\n",
              "      <th>eraytrader</th>\n",
              "      <td>1</td>\n",
              "      <td>eraytrader</td>\n",
              "      <td>9.888887e+07</td>\n",
              "    </tr>\n",
              "    <tr>\n",
              "      <th>28ekim1926</th>\n",
              "      <td>1</td>\n",
              "      <td>28ekim1926</td>\n",
              "      <td>2.352443e+09</td>\n",
              "    </tr>\n",
              "    <tr>\n",
              "      <th>haciarinmis</th>\n",
              "      <td>1</td>\n",
              "      <td>haciarinmis</td>\n",
              "      <td>5.872667e+08</td>\n",
              "    </tr>\n",
              "  </tbody>\n",
              "</table>\n",
              "<p>9526 rows × 3 columns</p>\n",
              "</div>"
            ],
            "text/plain": [
              "                 count      screen_name       user_id\n",
              "sondakikhabertr     12  sondakikhabertr  2.656757e+09\n",
              "teknobilginet       11    teknobilginet  2.987052e+09\n",
              "anahabercom         10      anahabercom  1.291886e+09\n",
              "habersnm             8         habersnm  3.898611e+09\n",
              "corona_haber         8     corona_haber  1.238072e+18\n",
              "...                ...              ...           ...\n",
              "musasev23438057      1  musasev23438057  1.230414e+18\n",
              "gokhansonmez         1     gokhansonmez  1.150151e+08\n",
              "eraytrader           1       eraytrader  9.888887e+07\n",
              "28ekim1926           1       28ekim1926  2.352443e+09\n",
              "haciarinmis          1      haciarinmis  5.872667e+08\n",
              "\n",
              "[9526 rows x 3 columns]"
            ]
          },
          "metadata": {
            "tags": []
          },
          "execution_count": 42
        }
      ]
    },
    {
      "cell_type": "markdown",
      "metadata": {
        "id": "HA7d26dWI50c",
        "colab_type": "text"
      },
      "source": [
        "I have the botometer scores of ~1000 users in result4.json file\n",
        "\n",
        "What I need to do is to combine the scores file with userProfiles and counts of tweets"
      ]
    },
    {
      "cell_type": "code",
      "metadata": {
        "id": "PI3_nMLhMpLn",
        "colab_type": "code",
        "colab": {}
      },
      "source": [
        "import json\n",
        "with open ('/content/result.json','r') as infile:\n",
        "  data=json.load(infile)\n",
        "\n",
        "result_samp = data"
      ],
      "execution_count": 14,
      "outputs": []
    },
    {
      "cell_type": "code",
      "metadata": {
        "id": "cxLMaDLvOWYM",
        "colab_type": "code",
        "colab": {
          "base_uri": "https://localhost:8080/",
          "height": 34
        },
        "outputId": "e2fd4d44-1751-4da7-b871-f04250dff774"
      },
      "source": [
        "len(result_samp)"
      ],
      "execution_count": 15,
      "outputs": [
        {
          "output_type": "execute_result",
          "data": {
            "text/plain": [
              "148"
            ]
          },
          "metadata": {
            "tags": []
          },
          "execution_count": 15
        }
      ]
    },
    {
      "cell_type": "code",
      "metadata": {
        "id": "JKz_HpBPNQY8",
        "colab_type": "code",
        "colab": {}
      },
      "source": [
        "with open ('/content/result2.json','r') as infile:\n",
        "  data=json.load(infile)\n",
        "  \n",
        "result_samp += data"
      ],
      "execution_count": 16,
      "outputs": []
    },
    {
      "cell_type": "code",
      "metadata": {
        "id": "F-fRionBOcF6",
        "colab_type": "code",
        "colab": {
          "base_uri": "https://localhost:8080/",
          "height": 34
        },
        "outputId": "3484c5e0-d959-4d61-ea79-cc00bb07162e"
      },
      "source": [
        "len(result_samp)"
      ],
      "execution_count": 17,
      "outputs": [
        {
          "output_type": "execute_result",
          "data": {
            "text/plain": [
              "287"
            ]
          },
          "metadata": {
            "tags": []
          },
          "execution_count": 17
        }
      ]
    },
    {
      "cell_type": "code",
      "metadata": {
        "id": "Si1aG4plORDX",
        "colab_type": "code",
        "colab": {
          "base_uri": "https://localhost:8080/",
          "height": 34
        },
        "outputId": "62277ae8-6d0d-4cbf-fe53-37fde8829d3b"
      },
      "source": [
        "with open ('/content/result3.json','r') as infile:\n",
        "  data=json.load(infile)\n",
        "\n",
        "result_samp += data\n",
        "len(result_samp)"
      ],
      "execution_count": 18,
      "outputs": [
        {
          "output_type": "execute_result",
          "data": {
            "text/plain": [
              "968"
            ]
          },
          "metadata": {
            "tags": []
          },
          "execution_count": 18
        }
      ]
    },
    {
      "cell_type": "code",
      "metadata": {
        "id": "brGAqOHirgxG",
        "colab_type": "code",
        "colab": {
          "base_uri": "https://localhost:8080/",
          "height": 34
        },
        "outputId": "3cf84787-73fa-454c-eb6f-7f656bae5eb1"
      },
      "source": [
        "with open ('/content/result5.json','r') as infile:\n",
        "  data=json.load(infile)\n",
        "\n",
        "result_samp += data\n",
        "len(result_samp)"
      ],
      "execution_count": 19,
      "outputs": [
        {
          "output_type": "execute_result",
          "data": {
            "text/plain": [
              "1163"
            ]
          },
          "metadata": {
            "tags": []
          },
          "execution_count": 19
        }
      ]
    },
    {
      "cell_type": "code",
      "metadata": {
        "id": "JqRhWgNtrjEn",
        "colab_type": "code",
        "colab": {
          "base_uri": "https://localhost:8080/",
          "height": 34
        },
        "outputId": "aa0b1dff-2a67-474c-fae5-6549a1fa095c"
      },
      "source": [
        "with open ('/content/result6.json','r') as infile:\n",
        "  data=json.load(infile)\n",
        "\n",
        "result_samp += data\n",
        "len(result_samp)"
      ],
      "execution_count": 20,
      "outputs": [
        {
          "output_type": "execute_result",
          "data": {
            "text/plain": [
              "1453"
            ]
          },
          "metadata": {
            "tags": []
          },
          "execution_count": 20
        }
      ]
    },
    {
      "cell_type": "code",
      "metadata": {
        "id": "AEZ307IYPdv8",
        "colab_type": "code",
        "colab": {}
      },
      "source": [
        "result_sampdf = pd.DataFrame(result_samp)"
      ],
      "execution_count": 96,
      "outputs": []
    },
    {
      "cell_type": "code",
      "metadata": {
        "id": "PCU5rxz1Sucv",
        "colab_type": "code",
        "colab": {
          "base_uri": "https://localhost:8080/",
          "height": 51
        },
        "outputId": "49cb16d5-835d-4b34-e947-9cb1ff5d357c"
      },
      "source": [
        "print(type(result_samp)) ## list of dictionaries \n",
        "print(type(result_samp[1]))"
      ],
      "execution_count": 114,
      "outputs": [
        {
          "output_type": "stream",
          "text": [
            "<class 'list'>\n",
            "<class 'dict'>\n"
          ],
          "name": "stdout"
        }
      ]
    },
    {
      "cell_type": "code",
      "metadata": {
        "id": "UOUkpcyLYK_6",
        "colab_type": "code",
        "colab": {
          "base_uri": "https://localhost:8080/",
          "height": 306
        },
        "outputId": "adb3edf9-0898-47e9-98ba-f211cfd8e268"
      },
      "source": [
        "(result_samp[0])"
      ],
      "execution_count": 121,
      "outputs": [
        {
          "output_type": "execute_result",
          "data": {
            "text/plain": [
              "{'cap': {'english': 0.009922300094567935, 'universal': 0.007183846426565749},\n",
              " 'categories': {'content': 0.07065345957790067,\n",
              "  'friend': 0.19869669732913162,\n",
              "  'network': 0.15895834190828398,\n",
              "  'sentiment': 0.06371792784714292,\n",
              "  'temporal': 0.27589464844196043,\n",
              "  'user': 0.03482447811460989},\n",
              " 'display_scores': {'content': 0.4,\n",
              "  'english': 0.9,\n",
              "  'friend': 1.0,\n",
              "  'network': 0.8,\n",
              "  'sentiment': 0.3,\n",
              "  'temporal': 1.4,\n",
              "  'universal': 0.7,\n",
              "  'user': 0.2},\n",
              " 'scores': {'english': 0.1807672693005155, 'universal': 0.13802618960216584},\n",
              " 'user': {'id_str': '193307626', 'screen_name': 'aladasyz'}}"
            ]
          },
          "metadata": {
            "tags": []
          },
          "execution_count": 121
        }
      ]
    },
    {
      "cell_type": "code",
      "metadata": {
        "id": "0B-D1Mn8YkKt",
        "colab_type": "code",
        "colab": {
          "base_uri": "https://localhost:8080/",
          "height": 34
        },
        "outputId": "bfa2a04a-2fae-4eed-dbd6-5ab6a909b8c1"
      },
      "source": [
        "result_samp[0][\"cap\"][\"universal\"]\n",
        "result_samp[0][\"user\"][\"screen_name\"]"
      ],
      "execution_count": 126,
      "outputs": [
        {
          "output_type": "execute_result",
          "data": {
            "text/plain": [
              "'aladasyz'"
            ]
          },
          "metadata": {
            "tags": []
          },
          "execution_count": 126
        }
      ]
    },
    {
      "cell_type": "code",
      "metadata": {
        "id": "0DocDtGJYrpV",
        "colab_type": "code",
        "colab": {}
      },
      "source": [
        "botscore = pd.DataFrame()"
      ],
      "execution_count": 139,
      "outputs": []
    },
    {
      "cell_type": "code",
      "metadata": {
        "id": "wf91Z-lCZS6U",
        "colab_type": "code",
        "colab": {
          "base_uri": "https://localhost:8080/",
          "height": 34
        },
        "outputId": "c4866176-061d-41d0-d55f-699d23947c24"
      },
      "source": [
        "len(result_samp)"
      ],
      "execution_count": 144,
      "outputs": [
        {
          "output_type": "execute_result",
          "data": {
            "text/plain": [
              "968"
            ]
          },
          "metadata": {
            "tags": []
          },
          "execution_count": 144
        }
      ]
    },
    {
      "cell_type": "code",
      "metadata": {
        "id": "De7YRuMAYz5v",
        "colab_type": "code",
        "colab": {
          "base_uri": "https://localhost:8080/",
          "height": 51
        },
        "outputId": "00d61da4-323f-4704-faad-6c2dc2a0a90f"
      },
      "source": [
        "screen_name=list()\n",
        "universalscore = list()\n",
        "\n",
        "for i in range(len(result_samp)):\n",
        "  screen_name.append(result_samp[i][\"user\"][\"screen_name\"]),\n",
        "  universalscore.append(result_samp[i][\"scores\"][\"universal\"])\n",
        "\n",
        "#print(botscore)\n",
        "print(len(screen_name))\n",
        "print(len(universalscore))"
      ],
      "execution_count": 21,
      "outputs": [
        {
          "output_type": "stream",
          "text": [
            "1453\n",
            "1453\n"
          ],
          "name": "stdout"
        }
      ]
    },
    {
      "cell_type": "code",
      "metadata": {
        "id": "3f-brashaTH1",
        "colab_type": "code",
        "colab": {}
      },
      "source": [
        "zippedbot = list(zip(screen_name, universalscore))"
      ],
      "execution_count": 22,
      "outputs": []
    },
    {
      "cell_type": "code",
      "metadata": {
        "id": "1SwqQuwRbgSR",
        "colab_type": "code",
        "colab": {}
      },
      "source": [
        "botscore= pd.DataFrame(zippedbot, columns=[\"screen_name\",\"universal_score\"])"
      ],
      "execution_count": 23,
      "outputs": []
    },
    {
      "cell_type": "code",
      "metadata": {
        "id": "YIfedZO9booZ",
        "colab_type": "code",
        "colab": {
          "base_uri": "https://localhost:8080/",
          "height": 34
        },
        "outputId": "ac0ad7a4-e6b7-457e-b89b-c007666cd2fa"
      },
      "source": [
        "botscore.head()\n",
        "len(botscore)"
      ],
      "execution_count": 24,
      "outputs": [
        {
          "output_type": "execute_result",
          "data": {
            "text/plain": [
              "1453"
            ]
          },
          "metadata": {
            "tags": []
          },
          "execution_count": 24
        }
      ]
    },
    {
      "cell_type": "code",
      "metadata": {
        "id": "AhtUPp30tmJL",
        "colab_type": "code",
        "colab": {}
      },
      "source": [
        "botscore.to_csv('botscore.csv', \n",
        "            encoding = 'utf-8',\n",
        "            index = False)"
      ],
      "execution_count": 25,
      "outputs": []
    },
    {
      "cell_type": "code",
      "metadata": {
        "id": "Zza4Fqliua-3",
        "colab_type": "code",
        "colab": {
          "base_uri": "https://localhost:8080/",
          "height": 204
        },
        "outputId": "1885c7f1-5d60-4931-fb87-2bcda9e4a9a2"
      },
      "source": [
        "userDf.head()"
      ],
      "execution_count": 43,
      "outputs": [
        {
          "output_type": "execute_result",
          "data": {
            "text/html": [
              "<div>\n",
              "<style scoped>\n",
              "    .dataframe tbody tr th:only-of-type {\n",
              "        vertical-align: middle;\n",
              "    }\n",
              "\n",
              "    .dataframe tbody tr th {\n",
              "        vertical-align: top;\n",
              "    }\n",
              "\n",
              "    .dataframe thead th {\n",
              "        text-align: right;\n",
              "    }\n",
              "</style>\n",
              "<table border=\"1\" class=\"dataframe\">\n",
              "  <thead>\n",
              "    <tr style=\"text-align: right;\">\n",
              "      <th></th>\n",
              "      <th>count</th>\n",
              "      <th>screen_name</th>\n",
              "      <th>user_id</th>\n",
              "    </tr>\n",
              "  </thead>\n",
              "  <tbody>\n",
              "    <tr>\n",
              "      <th>sondakikhabertr</th>\n",
              "      <td>12</td>\n",
              "      <td>sondakikhabertr</td>\n",
              "      <td>2.656757e+09</td>\n",
              "    </tr>\n",
              "    <tr>\n",
              "      <th>teknobilginet</th>\n",
              "      <td>11</td>\n",
              "      <td>teknobilginet</td>\n",
              "      <td>2.987052e+09</td>\n",
              "    </tr>\n",
              "    <tr>\n",
              "      <th>anahabercom</th>\n",
              "      <td>10</td>\n",
              "      <td>anahabercom</td>\n",
              "      <td>1.291886e+09</td>\n",
              "    </tr>\n",
              "    <tr>\n",
              "      <th>habersnm</th>\n",
              "      <td>8</td>\n",
              "      <td>habersnm</td>\n",
              "      <td>3.898611e+09</td>\n",
              "    </tr>\n",
              "    <tr>\n",
              "      <th>corona_haber</th>\n",
              "      <td>8</td>\n",
              "      <td>corona_haber</td>\n",
              "      <td>1.238072e+18</td>\n",
              "    </tr>\n",
              "  </tbody>\n",
              "</table>\n",
              "</div>"
            ],
            "text/plain": [
              "                 count      screen_name       user_id\n",
              "sondakikhabertr     12  sondakikhabertr  2.656757e+09\n",
              "teknobilginet       11    teknobilginet  2.987052e+09\n",
              "anahabercom         10      anahabercom  1.291886e+09\n",
              "habersnm             8         habersnm  3.898611e+09\n",
              "corona_haber         8     corona_haber  1.238072e+18"
            ]
          },
          "metadata": {
            "tags": []
          },
          "execution_count": 43
        }
      ]
    },
    {
      "cell_type": "code",
      "metadata": {
        "id": "u9Vm1ibqv9qv",
        "colab_type": "code",
        "colab": {
          "base_uri": "https://localhost:8080/",
          "height": 221
        },
        "outputId": "01a1bab4-cc03-4b20-dead-f0e803a1ae0d"
      },
      "source": [
        "botscore.head()\n",
        "botscore['screen_name']"
      ],
      "execution_count": 48,
      "outputs": [
        {
          "output_type": "execute_result",
          "data": {
            "text/plain": [
              "0              aladasyz\n",
              "1       murat_tiryaki55\n",
              "2           bankobahis7\n",
              "3         akdemircigdem\n",
              "4        semerkantkemal\n",
              "             ...       \n",
              "1448    celikkk_alperrr\n",
              "1449       sariyerimcom\n",
              "1450      dilara_onur34\n",
              "1451    alpogan_huseyin\n",
              "1452         nurcan_bac\n",
              "Name: screen_name, Length: 1453, dtype: object"
            ]
          },
          "metadata": {
            "tags": []
          },
          "execution_count": 48
        }
      ]
    },
    {
      "cell_type": "code",
      "metadata": {
        "id": "GF5LQ1wl3m4h",
        "colab_type": "code",
        "colab": {
          "base_uri": "https://localhost:8080/",
          "height": 164
        },
        "outputId": "bd2c65f2-6789-4daa-c195-6be81c4636a7"
      },
      "source": [
        "name_list<- list()"
      ],
      "execution_count": 52,
      "outputs": [
        {
          "output_type": "error",
          "ename": "NameError",
          "evalue": "ignored",
          "traceback": [
            "\u001b[0;31m---------------------------------------------------------------------------\u001b[0m",
            "\u001b[0;31mNameError\u001b[0m                                 Traceback (most recent call last)",
            "\u001b[0;32m<ipython-input-52-d6db1e92ccc4>\u001b[0m in \u001b[0;36m<module>\u001b[0;34m()\u001b[0m\n\u001b[0;32m----> 1\u001b[0;31m \u001b[0mname_list\u001b[0m\u001b[0;34m<\u001b[0m\u001b[0;34m-\u001b[0m \u001b[0mlist\u001b[0m\u001b[0;34m(\u001b[0m\u001b[0;34m)\u001b[0m\u001b[0;34m\u001b[0m\u001b[0;34m\u001b[0m\u001b[0m\n\u001b[0m",
            "\u001b[0;31mNameError\u001b[0m: name 'name_list' is not defined"
          ]
        }
      ]
    },
    {
      "cell_type": "code",
      "metadata": {
        "id": "h53nRxUY33KU",
        "colab_type": "code",
        "colab": {
          "base_uri": "https://localhost:8080/",
          "height": 164
        },
        "outputId": "5b8e7eb4-a266-4d4b-9242-b89b83908540"
      },
      "source": [
        "name_list<- list(botscore['screen_name'])"
      ],
      "execution_count": 53,
      "outputs": [
        {
          "output_type": "error",
          "ename": "NameError",
          "evalue": "ignored",
          "traceback": [
            "\u001b[0;31m---------------------------------------------------------------------------\u001b[0m",
            "\u001b[0;31mNameError\u001b[0m                                 Traceback (most recent call last)",
            "\u001b[0;32m<ipython-input-53-6fcc5d696a9d>\u001b[0m in \u001b[0;36m<module>\u001b[0;34m()\u001b[0m\n\u001b[0;32m----> 1\u001b[0;31m \u001b[0mname_list\u001b[0m\u001b[0;34m<\u001b[0m\u001b[0;34m-\u001b[0m \u001b[0mlist\u001b[0m\u001b[0;34m(\u001b[0m\u001b[0mbotscore\u001b[0m\u001b[0;34m[\u001b[0m\u001b[0;34m'screen_name'\u001b[0m\u001b[0;34m]\u001b[0m\u001b[0;34m)\u001b[0m\u001b[0;34m\u001b[0m\u001b[0;34m\u001b[0m\u001b[0m\n\u001b[0m",
            "\u001b[0;31mNameError\u001b[0m: name 'name_list' is not defined"
          ]
        }
      ]
    },
    {
      "cell_type": "code",
      "metadata": {
        "id": "jnKIrWAL4TX5",
        "colab_type": "code",
        "colab": {
          "base_uri": "https://localhost:8080/",
          "height": 34
        },
        "outputId": "35c3a101-782a-4ce9-ed56-19876ec1ae2c"
      },
      "source": [
        "botscore.head()\n",
        "botscore.screen_name\n",
        "type(botscore)"
      ],
      "execution_count": 67,
      "outputs": [
        {
          "output_type": "execute_result",
          "data": {
            "text/plain": [
              "pandas.core.frame.DataFrame"
            ]
          },
          "metadata": {
            "tags": []
          },
          "execution_count": 67
        }
      ]
    },
    {
      "cell_type": "code",
      "metadata": {
        "id": "XR211xHt3OJZ",
        "colab_type": "code",
        "colab": {
          "base_uri": "https://localhost:8080/",
          "height": 307
        },
        "outputId": "45bd9fa2-ed58-4718-ac69-8a492c81e738"
      },
      "source": [
        "indexnames= userDf[userDf.screen_name not in botscore.screen_name].index"
      ],
      "execution_count": 68,
      "outputs": [
        {
          "output_type": "error",
          "ename": "TypeError",
          "evalue": "ignored",
          "traceback": [
            "\u001b[0;31m---------------------------------------------------------------------------\u001b[0m",
            "\u001b[0;31mTypeError\u001b[0m                                 Traceback (most recent call last)",
            "\u001b[0;32m<ipython-input-68-31ff6506361a>\u001b[0m in \u001b[0;36m<module>\u001b[0;34m()\u001b[0m\n\u001b[0;32m----> 1\u001b[0;31m \u001b[0mindexnames\u001b[0m\u001b[0;34m=\u001b[0m \u001b[0muserDf\u001b[0m\u001b[0;34m[\u001b[0m\u001b[0muserDf\u001b[0m\u001b[0;34m.\u001b[0m\u001b[0mscreen_name\u001b[0m \u001b[0;32mnot\u001b[0m \u001b[0;32min\u001b[0m \u001b[0mbotscore\u001b[0m\u001b[0;34m.\u001b[0m\u001b[0mscreen_name\u001b[0m\u001b[0;34m]\u001b[0m\u001b[0;34m.\u001b[0m\u001b[0mindex\u001b[0m\u001b[0;34m\u001b[0m\u001b[0;34m\u001b[0m\u001b[0m\n\u001b[0m",
            "\u001b[0;32m/usr/local/lib/python3.6/dist-packages/pandas/core/generic.py\u001b[0m in \u001b[0;36m__contains__\u001b[0;34m(self, key)\u001b[0m\n\u001b[1;32m   1848\u001b[0m     \u001b[0;32mdef\u001b[0m \u001b[0m__contains__\u001b[0m\u001b[0;34m(\u001b[0m\u001b[0mself\u001b[0m\u001b[0;34m,\u001b[0m \u001b[0mkey\u001b[0m\u001b[0;34m)\u001b[0m \u001b[0;34m->\u001b[0m \u001b[0mbool_t\u001b[0m\u001b[0;34m:\u001b[0m\u001b[0;34m\u001b[0m\u001b[0;34m\u001b[0m\u001b[0m\n\u001b[1;32m   1849\u001b[0m         \u001b[0;34m\"\"\"True if the key is in the info axis\"\"\"\u001b[0m\u001b[0;34m\u001b[0m\u001b[0;34m\u001b[0m\u001b[0m\n\u001b[0;32m-> 1850\u001b[0;31m         \u001b[0;32mreturn\u001b[0m \u001b[0mkey\u001b[0m \u001b[0;32min\u001b[0m \u001b[0mself\u001b[0m\u001b[0;34m.\u001b[0m\u001b[0m_info_axis\u001b[0m\u001b[0;34m\u001b[0m\u001b[0;34m\u001b[0m\u001b[0m\n\u001b[0m\u001b[1;32m   1851\u001b[0m \u001b[0;34m\u001b[0m\u001b[0m\n\u001b[1;32m   1852\u001b[0m     \u001b[0;34m@\u001b[0m\u001b[0mproperty\u001b[0m\u001b[0;34m\u001b[0m\u001b[0;34m\u001b[0m\u001b[0m\n",
            "\u001b[0;32m/usr/local/lib/python3.6/dist-packages/pandas/core/indexes/range.py\u001b[0m in \u001b[0;36m__contains__\u001b[0;34m(self, key)\u001b[0m\n\u001b[1;32m    336\u001b[0m \u001b[0;34m\u001b[0m\u001b[0m\n\u001b[1;32m    337\u001b[0m     \u001b[0;32mdef\u001b[0m \u001b[0m__contains__\u001b[0m\u001b[0;34m(\u001b[0m\u001b[0mself\u001b[0m\u001b[0;34m,\u001b[0m \u001b[0mkey\u001b[0m\u001b[0;34m:\u001b[0m \u001b[0mUnion\u001b[0m\u001b[0;34m[\u001b[0m\u001b[0mint\u001b[0m\u001b[0;34m,\u001b[0m \u001b[0mnp\u001b[0m\u001b[0;34m.\u001b[0m\u001b[0minteger\u001b[0m\u001b[0;34m]\u001b[0m\u001b[0;34m)\u001b[0m \u001b[0;34m->\u001b[0m \u001b[0mbool\u001b[0m\u001b[0;34m:\u001b[0m\u001b[0;34m\u001b[0m\u001b[0;34m\u001b[0m\u001b[0m\n\u001b[0;32m--> 338\u001b[0;31m         \u001b[0mhash\u001b[0m\u001b[0;34m(\u001b[0m\u001b[0mkey\u001b[0m\u001b[0;34m)\u001b[0m\u001b[0;34m\u001b[0m\u001b[0;34m\u001b[0m\u001b[0m\n\u001b[0m\u001b[1;32m    339\u001b[0m         \u001b[0;32mtry\u001b[0m\u001b[0;34m:\u001b[0m\u001b[0;34m\u001b[0m\u001b[0;34m\u001b[0m\u001b[0m\n\u001b[1;32m    340\u001b[0m             \u001b[0mkey\u001b[0m \u001b[0;34m=\u001b[0m \u001b[0mensure_python_int\u001b[0m\u001b[0;34m(\u001b[0m\u001b[0mkey\u001b[0m\u001b[0;34m)\u001b[0m\u001b[0;34m\u001b[0m\u001b[0;34m\u001b[0m\u001b[0m\n",
            "\u001b[0;32m/usr/local/lib/python3.6/dist-packages/pandas/core/generic.py\u001b[0m in \u001b[0;36m__hash__\u001b[0;34m(self)\u001b[0m\n\u001b[1;32m   1797\u001b[0m     \u001b[0;32mdef\u001b[0m \u001b[0m__hash__\u001b[0m\u001b[0;34m(\u001b[0m\u001b[0mself\u001b[0m\u001b[0;34m)\u001b[0m\u001b[0;34m:\u001b[0m\u001b[0;34m\u001b[0m\u001b[0;34m\u001b[0m\u001b[0m\n\u001b[1;32m   1798\u001b[0m         raise TypeError(\n\u001b[0;32m-> 1799\u001b[0;31m             \u001b[0;34mf\"{repr(type(self).__name__)} objects are mutable, \"\u001b[0m\u001b[0;34m\u001b[0m\u001b[0;34m\u001b[0m\u001b[0m\n\u001b[0m\u001b[1;32m   1800\u001b[0m             \u001b[0;34mf\"thus they cannot be hashed\"\u001b[0m\u001b[0;34m\u001b[0m\u001b[0;34m\u001b[0m\u001b[0m\n\u001b[1;32m   1801\u001b[0m         )\n",
            "\u001b[0;31mTypeError\u001b[0m: 'Series' objects are mutable, thus they cannot be hashed"
          ]
        }
      ]
    },
    {
      "cell_type": "code",
      "metadata": {
        "id": "1Ly9QMJEwC6b",
        "colab_type": "code",
        "colab": {}
      },
      "source": [
        "userDf.to_csv('userprofiles.csv', \n",
        "            encoding = 'utf-8',\n",
        "            index = False)"
      ],
      "execution_count": 46,
      "outputs": []
    },
    {
      "cell_type": "markdown",
      "metadata": {
        "id": "ucP06gOLIlRG",
        "colab_type": "text"
      },
      "source": [
        "# **Section 3.** This section is to draw network of sample tweets"
      ]
    },
    {
      "cell_type": "markdown",
      "metadata": {
        "id": "qH2gJxOFIsTS",
        "colab_type": "text"
      },
      "source": [
        "# **Section 4.** This section is to see the bots and real users in network"
      ]
    }
  ]
}